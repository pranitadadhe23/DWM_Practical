{
 "cells": [
  {
   "cell_type": "code",
   "execution_count": 1,
   "id": "719e28ec-d759-4136-8ac0-4441c68bae78",
   "metadata": {},
   "outputs": [
    {
     "name": "stdout",
     "output_type": "stream",
     "text": [
      "Original Data:\n",
      "   Year Quarter         Region  Country     Category Product Name  Sales\n",
      "0  2023      Q1  North America      USA  Electronics       Laptop  10000\n",
      "1  2023      Q2  North America   Canada     Clothing      T-Shirt   7000\n",
      "2  2023      Q3         Europe       UK  Electronics   Smartphone  15000\n",
      "3  2024      Q1         Europe  Germany     Clothing       Jacket   9000\n",
      "4  2024      Q2           Asia    India  Electronics       Tablet  11000\n",
      "5  2024      Q3           Asia    China     Clothing        Shoes   8000\n",
      "\n",
      "Roll-Up (Aggregate Sales by Year):\n",
      "   Year  Sales\n",
      "0  2023  32000\n",
      "1  2024  28000\n",
      "\n",
      "Drill-Down (Sales by Year and Quarter):\n",
      "   Year Quarter  Sales\n",
      "0  2023      Q1  10000\n",
      "1  2023      Q2   7000\n",
      "2  2023      Q3  15000\n",
      "3  2024      Q1   9000\n",
      "4  2024      Q2  11000\n",
      "5  2024      Q3   8000\n",
      "\n",
      "Slice (Data for Year 2023):\n",
      "   Year Quarter         Region Country     Category Product Name  Sales\n",
      "0  2023      Q1  North America     USA  Electronics       Laptop  10000\n",
      "1  2023      Q2  North America  Canada     Clothing      T-Shirt   7000\n",
      "2  2023      Q3         Europe      UK  Electronics   Smartphone  15000\n",
      "\n",
      "Dice (Sales for Year 2023 and Region 'North America'):\n",
      "   Year Quarter         Region Country     Category Product Name  Sales\n",
      "0  2023      Q1  North America     USA  Electronics       Laptop  10000\n",
      "1  2023      Q2  North America  Canada     Clothing      T-Shirt   7000\n",
      "\n",
      "Pivot Table (Sales by Year and Region):\n",
      "Region   Asia  Europe  North America\n",
      "Year                                \n",
      "2023        0   15000          17000\n",
      "2024    19000    9000              0\n"
     ]
    },
    {
     "name": "stderr",
     "output_type": "stream",
     "text": [
      "C:\\Users\\ASUS\\AppData\\Local\\Temp\\ipykernel_15160\\1054374360.py:40: FutureWarning: The provided callable <function sum at 0x000001EB3F9374C0> is currently using DataFrameGroupBy.sum. In a future version of pandas, the provided callable will be used directly. To keep current behavior pass the string \"sum\" instead.\n",
      "  pivot_table = df.pivot_table(values='Sales', index='Year', columns='Region', aggfunc=np.sum, fill_value=0)\n"
     ]
    }
   ],
   "source": [
    "import pandas as pd\n",
    "import numpy as np\n",
    "\n",
    "# Creating the dataset\n",
    "data = {\n",
    "    'Year': [2023, 2023, 2023, 2024, 2024, 2024],\n",
    "    'Quarter': ['Q1', 'Q2', 'Q3', 'Q1', 'Q2', 'Q3'],\n",
    "    'Region': ['North America', 'North America', 'Europe', 'Europe', 'Asia', 'Asia'],\n",
    "    'Country': ['USA', 'Canada', 'UK', 'Germany', 'India', 'China'],\n",
    "    'Category': ['Electronics', 'Clothing', 'Electronics', 'Clothing', 'Electronics', 'Clothing'],\n",
    "    'Product Name': ['Laptop', 'T-Shirt', 'Smartphone', 'Jacket', 'Tablet', 'Shoes'],\n",
    "    'Sales': [10000, 7000, 15000, 9000, 11000, 8000]\n",
    "}\n",
    "\n",
    "df = pd.DataFrame(data)\n",
    "print(\"Original Data:\")\n",
    "print(df)\n",
    "\n",
    "# 1. Roll-Up (Aggregate Sales by Year)\n",
    "rollup_df = df.groupby('Year', as_index=False)['Sales'].sum()\n",
    "print(\"\\nRoll-Up (Aggregate Sales by Year):\")\n",
    "print(rollup_df)\n",
    "\n",
    "# 2. Drill-Down (Sales by Year and Quarter)\n",
    "drilldown_df = df.groupby(['Year', 'Quarter'], as_index=False)['Sales'].sum()\n",
    "print(\"\\nDrill-Down (Sales by Year and Quarter):\")\n",
    "print(drilldown_df)\n",
    "\n",
    "# 3. Slice (Data for Year 2023)\n",
    "slice_df = df[df['Year'] == 2023]\n",
    "print(\"\\nSlice (Data for Year 2023):\")\n",
    "print(slice_df)\n",
    "\n",
    "# 4. Dice (Sales for Year 2023 and Region 'North America')\n",
    "dice_df = df[(df['Year'] == 2023) & (df['Region'] == 'North America')]\n",
    "print(\"\\nDice (Sales for Year 2023 and Region 'North America'):\")\n",
    "print(dice_df)\n",
    "\n",
    "# 5. Pivot Table Visualization\n",
    "pivot_table = df.pivot_table(values='Sales', index='Year', columns='Region', aggfunc=np.sum, fill_value=0)\n",
    "print(\"\\nPivot Table (Sales by Year and Region):\")\n",
    "print(pivot_table)"
   ]
  },
  {
   "cell_type": "code",
   "execution_count": null,
   "id": "35174e53-ee45-461f-9872-67ce3061606a",
   "metadata": {},
   "outputs": [],
   "source": []
  }
 ],
 "metadata": {
  "kernelspec": {
   "display_name": "Python [conda env:base] *",
   "language": "python",
   "name": "conda-base-py"
  },
  "language_info": {
   "codemirror_mode": {
    "name": "ipython",
    "version": 3
   },
   "file_extension": ".py",
   "mimetype": "text/x-python",
   "name": "python",
   "nbconvert_exporter": "python",
   "pygments_lexer": "ipython3",
   "version": "3.12.7"
  }
 },
 "nbformat": 4,
 "nbformat_minor": 5
}

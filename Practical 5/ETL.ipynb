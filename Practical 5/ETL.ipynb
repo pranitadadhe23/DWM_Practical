{
 "cells": [
  {
   "cell_type": "code",
   "execution_count": 2,
   "id": "0f861b76-1d7a-4cc8-9bb9-9dadf3b05703",
   "metadata": {},
   "outputs": [],
   "source": [
    "import pandas as pd"
   ]
  },
  {
   "cell_type": "code",
   "execution_count": 4,
   "id": "b8d1965d-3a35-46e3-b976-afe00fbcdd1a",
   "metadata": {},
   "outputs": [],
   "source": [
    "# Sample dataset\n",
    "data = {\n",
    "    'ID': [1, 2, 3, 4, 5, 6],\n",
    "    'Name': ['Alice', 'Bob', 'Charlie', 'David', 'Eve', 'Frank'],\n",
    "    'Age': [25, 30, 35, 40, 22, 29],\n",
    "    'Country': ['USA', 'UK', 'USA', 'India', 'Canada', 'UK'],\n",
    "    'Sales': [200, 450, 300, 800, 150, 400]\n",
    "}"
   ]
  },
  {
   "cell_type": "code",
   "execution_count": 6,
   "id": "c66f099f-0166-4d0b-a32d-a402c50fcd2e",
   "metadata": {},
   "outputs": [],
   "source": [
    "df = pd.DataFrame(data)"
   ]
  },
  {
   "cell_type": "code",
   "execution_count": 10,
   "id": "c2806436-7b93-47da-bb5d-e523a9c098eb",
   "metadata": {},
   "outputs": [
    {
     "name": "stdout",
     "output_type": "stream",
     "text": [
      "Character Map (Uppercase Names):\n",
      "   ID     Name Name_Upper\n",
      "0   1    Alice      ALICE\n",
      "1   2      Bob        BOB\n",
      "2   3  Charlie    CHARLIE\n",
      "3   4    David      DAVID\n",
      "4   5      Eve        EVE\n",
      "5   6    Frank      FRANK\n"
     ]
    }
   ],
   "source": [
    "# 1. Transform text data - Convert Name column to uppercase\n",
    "df['Name_Upper'] = df['Name'].str.upper()\n",
    "print(\"Character Map (Uppercase Names):\")\n",
    "print(df[['ID', 'Name', 'Name_Upper']])"
   ]
  },
  {
   "cell_type": "code",
   "execution_count": 12,
   "id": "eba529c6-5dd8-45c2-825c-0a3f8dcf3786",
   "metadata": {},
   "outputs": [],
   "source": [
    "# 2. Create multiple copies of dataset\n",
    "copy1 = df.copy()\n",
    "copy2 = df.copy()"
   ]
  },
  {
   "cell_type": "code",
   "execution_count": 14,
   "id": "b41258ba-6691-4752-b8f5-f011922fac99",
   "metadata": {},
   "outputs": [
    {
     "name": "stdout",
     "output_type": "stream",
     "text": [
      "\n",
      "Copy 1 (Sales Increased):\n",
      "   ID     Name  Age Country  Sales Name_Upper\n",
      "0   1    Alice   25     USA  220.0      ALICE\n",
      "1   2      Bob   30      UK  495.0        BOB\n",
      "2   3  Charlie   35     USA  330.0    CHARLIE\n",
      "3   4    David   40   India  880.0      DAVID\n",
      "4   5      Eve   22  Canada  165.0        EVE\n",
      "5   6    Frank   29      UK  440.0      FRANK\n",
      "\n",
      "Copy 2 (Age Increased):\n",
      "   ID     Name  Age Country  Sales Name_Upper\n",
      "0   1    Alice   30     USA    200      ALICE\n",
      "1   2      Bob   35      UK    450        BOB\n",
      "2   3  Charlie   40     USA    300    CHARLIE\n",
      "3   4    David   45   India    800      DAVID\n",
      "4   5      Eve   27  Canada    150        EVE\n",
      "5   6    Frank   34      UK    400      FRANK\n"
     ]
    }
   ],
   "source": [
    "# Modify copies for parallel transformations\n",
    "copy1['Sales'] = copy1['Sales'] * 1.1  # Increase sales by 10%\n",
    "copy2['Age'] = copy2['Age'] + 5  # Increase age by 5 years\n",
    "\n",
    "print(\"\\nCopy 1 (Sales Increased):\")\n",
    "print(copy1)\n",
    "print(\"\\nCopy 2 (Age Increased):\")\n",
    "print(copy2)"
   ]
  },
  {
   "cell_type": "code",
   "execution_count": 16,
   "id": "4c4db160-143b-4874-a7eb-4b0c2919bcb3",
   "metadata": {},
   "outputs": [
    {
     "name": "stdout",
     "output_type": "stream",
     "text": [
      "\n",
      "High Sales:\n",
      "   ID   Name  Age Country  Sales Name_Upper\n",
      "1   2    Bob   30      UK    450        BOB\n",
      "3   4  David   40   India    800      DAVID\n",
      "5   6  Frank   29      UK    400      FRANK\n",
      "\n",
      "Low Sales:\n",
      "   ID     Name  Age Country  Sales Name_Upper\n",
      "0   1    Alice   25     USA    200      ALICE\n",
      "2   3  Charlie   35     USA    300    CHARLIE\n",
      "4   5      Eve   22  Canada    150        EVE\n"
     ]
    }
   ],
   "source": [
    "# 3. Conditional Split: Filter data based on Sales > 300\n",
    "high_sales = df[df['Sales'] > 300]\n",
    "low_sales = df[df['Sales'] <= 300]\n",
    "\n",
    "print(\"\\nHigh Sales:\")\n",
    "print(high_sales)\n",
    "print(\"\\nLow Sales:\")\n",
    "print(low_sales)"
   ]
  },
  {
   "cell_type": "code",
   "execution_count": 18,
   "id": "b05eb24f-6f8e-4de9-9d1b-3822d7425f89",
   "metadata": {},
   "outputs": [
    {
     "name": "stdout",
     "output_type": "stream",
     "text": [
      "\n",
      "Aggregation (Total Sales by Country):\n",
      "  Country  Sales\n",
      "0  Canada    150\n",
      "1   India    800\n",
      "2      UK    850\n",
      "3     USA    500\n"
     ]
    }
   ],
   "source": [
    "# 4. Aggregation: Total sales by country\n",
    "total_sales_by_country = df.groupby('Country', as_index=False)['Sales'].sum()\n",
    "print(\"\\nAggregation (Total Sales by Country):\")\n",
    "print(total_sales_by_country)"
   ]
  },
  {
   "cell_type": "code",
   "execution_count": 20,
   "id": "9ddacda6-2062-4753-bdce-97285b0d709e",
   "metadata": {},
   "outputs": [
    {
     "name": "stdout",
     "output_type": "stream",
     "text": [
      "\n",
      "Sort (Descending Sales):\n",
      "   ID     Name  Age Country  Sales Name_Upper\n",
      "3   4    David   40   India    800      DAVID\n",
      "1   2      Bob   30      UK    450        BOB\n",
      "5   6    Frank   29      UK    400      FRANK\n",
      "2   3  Charlie   35     USA    300    CHARLIE\n",
      "0   1    Alice   25     USA    200      ALICE\n",
      "4   5      Eve   22  Canada    150        EVE\n"
     ]
    }
   ],
   "source": [
    "# 5. Sort dataset by Sales in descending order\n",
    "sorted_df = df.sort_values(by='Sales', ascending=False)\n",
    "print(\"\\nSort (Descending Sales):\")\n",
    "print(sorted_df)"
   ]
  },
  {
   "cell_type": "code",
   "execution_count": 22,
   "id": "af31bd15-5e6c-4c2c-a274-106b9833fe04",
   "metadata": {},
   "outputs": [
    {
     "name": "stdout",
     "output_type": "stream",
     "text": [
      "\n",
      "Derived Column (Sales Category):\n",
      "   ID     Name  Sales Sales_Category\n",
      "0   1    Alice    200            Low\n",
      "1   2      Bob    450           High\n",
      "2   3  Charlie    300            Low\n",
      "3   4    David    800           High\n",
      "4   5      Eve    150            Low\n",
      "5   6    Frank    400           High\n"
     ]
    }
   ],
   "source": [
    "# 6. Derived Column: Categorize sales as High or Low\n",
    "df['Sales_Category'] = df['Sales'].apply(lambda x: 'High' if x > 300 else 'Low')\n",
    "print(\"\\nDerived Column (Sales Category):\")\n",
    "print(df[['ID', 'Name', 'Sales', 'Sales_Category']])"
   ]
  },
  {
   "cell_type": "code",
   "execution_count": null,
   "id": "16597954-e5ff-4cf8-b491-fe737d4c4dd6",
   "metadata": {},
   "outputs": [],
   "source": []
  }
 ],
 "metadata": {
  "kernelspec": {
   "display_name": "Python [conda env:base] *",
   "language": "python",
   "name": "conda-base-py"
  },
  "language_info": {
   "codemirror_mode": {
    "name": "ipython",
    "version": 3
   },
   "file_extension": ".py",
   "mimetype": "text/x-python",
   "name": "python",
   "nbconvert_exporter": "python",
   "pygments_lexer": "ipython3",
   "version": "3.12.7"
  }
 },
 "nbformat": 4,
 "nbformat_minor": 5
}

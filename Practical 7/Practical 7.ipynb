{
 "cells": [
  {
   "cell_type": "code",
   "execution_count": 2,
   "id": "baa26871-3145-4d14-a33f-0de953b7e55a",
   "metadata": {},
   "outputs": [],
   "source": [
    "# Install required libraries\n",
    "!pip install mlxtend --quie"
   ]
  },
  {
   "cell_type": "code",
   "execution_count": 4,
   "id": "7445f25b-5c79-458c-ba44-e2387504fb34",
   "metadata": {},
   "outputs": [],
   "source": [
    "# Import required libraries\n",
    "import pandas as pd\n",
    "from mlxtend.frequent_patterns import apriori, association_rules\n",
    "from mlxtend.preprocessing import TransactionEncoder"
   ]
  },
  {
   "cell_type": "code",
   "execution_count": 12,
   "id": "9407b483-294c-40b3-9f03-a69d177c2bf3",
   "metadata": {},
   "outputs": [
    {
     "name": "stdout",
     "output_type": "stream",
     "text": [
      "Initial DataFrame:\n",
      "   Wine  Chips  Bread  Butter  Milk  Apple\n",
      "0  Wine    NaN  Bread  Butter  Milk    NaN\n",
      "1   NaN    NaN  Bread  Butter  Milk    NaN\n",
      "2   NaN  Chips    NaN     NaN   NaN  Apple\n",
      "3  Wine  Chips  Bread  Butter  Milk  Apple\n",
      "4  Wine  Chips    NaN     NaN  Milk    NaN\n"
     ]
    }
   ],
   "source": [
    "# Load the dataset\n",
    "df = pd.read_csv(\"C:\\\\Users\\\\ASUS\\\\DWM_LAB\\\\Practical 7\\\\Day1 (1).csv\")\n",
    "print(\"Initial DataFrame:\")\n",
    "print(df.head())"
   ]
  },
  {
   "cell_type": "code",
   "execution_count": 14,
   "id": "1a407f8b-204d-4247-bf6a-f5019210c6ef",
   "metadata": {},
   "outputs": [],
   "source": [
    "# Assuming each row is a transaction (basket of items), drop NaNs\n",
    "transactions = []\n",
    "for i in range(len(df)):\n",
    "    transaction = df.iloc[i].dropna().tolist()\n",
    "    transactions.append(transaction)"
   ]
  },
  {
   "cell_type": "code",
   "execution_count": 16,
   "id": "0c2fb805-a1e2-44d9-b210-989c2e54513e",
   "metadata": {},
   "outputs": [],
   "source": [
    "# Convert to one-hot encoding\n",
    "te = TransactionEncoder()\n",
    "te_array = te.fit(transactions).transform(transactions)\n",
    "df_trans = pd.DataFrame(te_array, columns=te.columns_)"
   ]
  },
  {
   "cell_type": "code",
   "execution_count": 18,
   "id": "2c9f98de-379b-489f-b33a-c497aa5acf09",
   "metadata": {},
   "outputs": [],
   "source": [
    "# Apply Apriori algorithm\n",
    "frequent_itemsets = apriori(df_trans, min_support=0.2, use_colnames=True)"
   ]
  },
  {
   "cell_type": "code",
   "execution_count": 22,
   "id": "82d4fec1-6128-466c-adfc-a61cec8a68e7",
   "metadata": {},
   "outputs": [],
   "source": [
    "# Generate association rules\n",
    "rules = association_rules(frequent_itemsets, metric=\"lift\", min_threshold=1.0)"
   ]
  },
  {
   "cell_type": "code",
   "execution_count": 24,
   "id": "380c6d8e-73a4-44d5-818c-291552abc9e5",
   "metadata": {},
   "outputs": [
    {
     "name": "stdout",
     "output_type": "stream",
     "text": [
      "\n",
      "Frequent Itemsets:\n",
      "     support                            itemsets\n",
      "0   0.666667                             (Apple)\n",
      "1   0.714286                             (Bread)\n",
      "2   0.666667                            (Butter)\n",
      "3   0.619048                             (Chips)\n",
      "4   0.761905                              (Milk)\n",
      "5   0.714286                              (Wine)\n",
      "6   0.523810                      (Bread, Apple)\n",
      "7   0.476190                     (Butter, Apple)\n",
      "8   0.428571                      (Chips, Apple)\n",
      "9   0.476190                       (Milk, Apple)\n",
      "10  0.476190                       (Apple, Wine)\n",
      "11  0.571429                     (Butter, Bread)\n",
      "12  0.380952                      (Bread, Chips)\n",
      "13  0.571429                       (Milk, Bread)\n",
      "14  0.571429                       (Bread, Wine)\n",
      "15  0.380952                     (Butter, Chips)\n",
      "16  0.571429                      (Butter, Milk)\n",
      "17  0.476190                      (Butter, Wine)\n",
      "18  0.428571                       (Milk, Chips)\n",
      "19  0.380952                       (Chips, Wine)\n",
      "20  0.619048                        (Milk, Wine)\n",
      "21  0.380952              (Butter, Bread, Apple)\n",
      "22  0.333333               (Bread, Chips, Apple)\n",
      "23  0.380952                (Milk, Bread, Apple)\n",
      "24  0.428571                (Bread, Apple, Wine)\n",
      "25  0.333333              (Butter, Chips, Apple)\n",
      "26  0.380952               (Butter, Milk, Apple)\n",
      "27  0.333333               (Butter, Apple, Wine)\n",
      "28  0.285714                (Milk, Chips, Apple)\n",
      "29  0.238095                (Chips, Apple, Wine)\n",
      "30  0.380952                 (Milk, Apple, Wine)\n",
      "31  0.333333              (Butter, Bread, Chips)\n",
      "32  0.476190               (Butter, Milk, Bread)\n",
      "33  0.428571               (Butter, Bread, Wine)\n",
      "34  0.285714                (Milk, Bread, Chips)\n",
      "35  0.285714                (Bread, Chips, Wine)\n",
      "36  0.476190                 (Milk, Bread, Wine)\n",
      "37  0.285714               (Butter, Milk, Chips)\n",
      "38  0.238095               (Butter, Chips, Wine)\n",
      "39  0.428571                (Butter, Milk, Wine)\n",
      "40  0.333333                 (Milk, Chips, Wine)\n",
      "41  0.285714       (Butter, Bread, Chips, Apple)\n",
      "42  0.285714        (Butter, Milk, Bread, Apple)\n",
      "43  0.285714        (Butter, Bread, Apple, Wine)\n",
      "44  0.238095         (Milk, Bread, Chips, Apple)\n",
      "45  0.238095         (Bread, Chips, Apple, Wine)\n",
      "46  0.333333          (Milk, Bread, Apple, Wine)\n",
      "47  0.238095        (Butter, Milk, Chips, Apple)\n",
      "48  0.285714         (Butter, Milk, Apple, Wine)\n",
      "49  0.238095        (Butter, Milk, Bread, Chips)\n",
      "50  0.238095        (Butter, Bread, Chips, Wine)\n",
      "51  0.380952         (Butter, Milk, Bread, Wine)\n",
      "52  0.238095          (Milk, Bread, Chips, Wine)\n",
      "53  0.238095  (Milk, Wine, Butter, Bread, Apple)\n"
     ]
    }
   ],
   "source": [
    "# Display results\n",
    "print(\"\\nFrequent Itemsets:\")\n",
    "print(frequent_itemsets)"
   ]
  },
  {
   "cell_type": "code",
   "execution_count": 26,
   "id": "545c858c-3a11-4080-adc4-263944974a36",
   "metadata": {},
   "outputs": [
    {
     "name": "stdout",
     "output_type": "stream",
     "text": [
      "\n",
      "Association Rules:\n",
      "        antecedents                   consequents   support  confidence  \\\n",
      "0           (Bread)                       (Apple)  0.523810    0.733333   \n",
      "1           (Apple)                       (Bread)  0.523810    0.785714   \n",
      "2          (Butter)                       (Apple)  0.476190    0.714286   \n",
      "3           (Apple)                      (Butter)  0.476190    0.714286   \n",
      "4           (Chips)                       (Apple)  0.428571    0.692308   \n",
      "..              ...                           ...       ...         ...   \n",
      "259  (Bread, Apple)          (Milk, Butter, Wine)  0.238095    0.454545   \n",
      "260          (Milk)  (Butter, Bread, Apple, Wine)  0.238095    0.312500   \n",
      "261          (Wine)  (Milk, Bread, Apple, Butter)  0.238095    0.333333   \n",
      "262        (Butter)    (Milk, Bread, Apple, Wine)  0.238095    0.357143   \n",
      "263         (Bread)   (Milk, Apple, Butter, Wine)  0.238095    0.333333   \n",
      "\n",
      "         lift  \n",
      "0    1.100000  \n",
      "1    1.100000  \n",
      "2    1.071429  \n",
      "3    1.071429  \n",
      "4    1.038462  \n",
      "..        ...  \n",
      "259  1.060606  \n",
      "260  1.093750  \n",
      "261  1.166667  \n",
      "262  1.071429  \n",
      "263  1.166667  \n",
      "\n",
      "[264 rows x 5 columns]\n"
     ]
    }
   ],
   "source": [
    "print(\"\\nAssociation Rules:\")\n",
    "print(rules[['antecedents', 'consequents', 'support', 'confidence', 'lift']])"
   ]
  },
  {
   "cell_type": "code",
   "execution_count": null,
   "id": "aff7cb57-fd78-4698-9a8b-366d311809be",
   "metadata": {},
   "outputs": [],
   "source": []
  }
 ],
 "metadata": {
  "kernelspec": {
   "display_name": "Python [conda env:base] *",
   "language": "python",
   "name": "conda-base-py"
  },
  "language_info": {
   "codemirror_mode": {
    "name": "ipython",
    "version": 3
   },
   "file_extension": ".py",
   "mimetype": "text/x-python",
   "name": "python",
   "nbconvert_exporter": "python",
   "pygments_lexer": "ipython3",
   "version": "3.12.7"
  }
 },
 "nbformat": 4,
 "nbformat_minor": 5
}
